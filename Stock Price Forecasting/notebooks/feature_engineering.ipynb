{
 "cells": [
  {
   "cell_type": "code",
   "execution_count": 1,
   "id": "0fbeca57",
   "metadata": {},
   "outputs": [],
   "source": [
    "import pandas as pd\n",
    "import numpy as np\n",
    "import yfinance as yf\n",
    "import matplotlib.pyplot as plt\n",
    "from sklearn.preprocessing import MinMaxScaler\n",
    "import joblib"
   ]
  },
  {
   "cell_type": "markdown",
   "id": "673b357f",
   "metadata": {},
   "source": [
    "### Data import"
   ]
  },
  {
   "cell_type": "code",
   "execution_count": 2,
   "id": "a056f1f6",
   "metadata": {
    "scrolled": false
   },
   "outputs": [
    {
     "name": "stderr",
     "output_type": "stream",
     "text": [
      "[*********************100%%**********************]  1 of 1 completed\n"
     ]
    }
   ],
   "source": [
    "df = yf.download('AAPL', start='2010-01-01', end='2024-6-30')"
   ]
  },
  {
   "cell_type": "code",
   "execution_count": 3,
   "id": "290be87d",
   "metadata": {
    "scrolled": true
   },
   "outputs": [
    {
     "data": {
      "text/html": [
       "<div>\n",
       "<style scoped>\n",
       "    .dataframe tbody tr th:only-of-type {\n",
       "        vertical-align: middle;\n",
       "    }\n",
       "\n",
       "    .dataframe tbody tr th {\n",
       "        vertical-align: top;\n",
       "    }\n",
       "\n",
       "    .dataframe thead th {\n",
       "        text-align: right;\n",
       "    }\n",
       "</style>\n",
       "<table border=\"1\" class=\"dataframe\">\n",
       "  <thead>\n",
       "    <tr style=\"text-align: right;\">\n",
       "      <th></th>\n",
       "      <th>Open</th>\n",
       "      <th>High</th>\n",
       "      <th>Low</th>\n",
       "      <th>Close</th>\n",
       "      <th>Adj Close</th>\n",
       "      <th>Volume</th>\n",
       "    </tr>\n",
       "    <tr>\n",
       "      <th>Date</th>\n",
       "      <th></th>\n",
       "      <th></th>\n",
       "      <th></th>\n",
       "      <th></th>\n",
       "      <th></th>\n",
       "      <th></th>\n",
       "    </tr>\n",
       "  </thead>\n",
       "  <tbody>\n",
       "    <tr>\n",
       "      <th>2024-06-24</th>\n",
       "      <td>207.720001</td>\n",
       "      <td>212.699997</td>\n",
       "      <td>206.589996</td>\n",
       "      <td>208.139999</td>\n",
       "      <td>208.139999</td>\n",
       "      <td>80727000</td>\n",
       "    </tr>\n",
       "    <tr>\n",
       "      <th>2024-06-25</th>\n",
       "      <td>209.149994</td>\n",
       "      <td>211.380005</td>\n",
       "      <td>208.610001</td>\n",
       "      <td>209.070007</td>\n",
       "      <td>209.070007</td>\n",
       "      <td>56713900</td>\n",
       "    </tr>\n",
       "    <tr>\n",
       "      <th>2024-06-26</th>\n",
       "      <td>211.500000</td>\n",
       "      <td>214.860001</td>\n",
       "      <td>210.639999</td>\n",
       "      <td>213.250000</td>\n",
       "      <td>213.250000</td>\n",
       "      <td>66213200</td>\n",
       "    </tr>\n",
       "    <tr>\n",
       "      <th>2024-06-27</th>\n",
       "      <td>214.690002</td>\n",
       "      <td>215.740005</td>\n",
       "      <td>212.350006</td>\n",
       "      <td>214.100006</td>\n",
       "      <td>214.100006</td>\n",
       "      <td>49772700</td>\n",
       "    </tr>\n",
       "    <tr>\n",
       "      <th>2024-06-28</th>\n",
       "      <td>215.770004</td>\n",
       "      <td>216.070007</td>\n",
       "      <td>210.300003</td>\n",
       "      <td>210.619995</td>\n",
       "      <td>210.619995</td>\n",
       "      <td>82542700</td>\n",
       "    </tr>\n",
       "  </tbody>\n",
       "</table>\n",
       "</div>"
      ],
      "text/plain": [
       "                  Open        High         Low       Close   Adj Close  \\\n",
       "Date                                                                     \n",
       "2024-06-24  207.720001  212.699997  206.589996  208.139999  208.139999   \n",
       "2024-06-25  209.149994  211.380005  208.610001  209.070007  209.070007   \n",
       "2024-06-26  211.500000  214.860001  210.639999  213.250000  213.250000   \n",
       "2024-06-27  214.690002  215.740005  212.350006  214.100006  214.100006   \n",
       "2024-06-28  215.770004  216.070007  210.300003  210.619995  210.619995   \n",
       "\n",
       "              Volume  \n",
       "Date                  \n",
       "2024-06-24  80727000  \n",
       "2024-06-25  56713900  \n",
       "2024-06-26  66213200  \n",
       "2024-06-27  49772700  \n",
       "2024-06-28  82542700  "
      ]
     },
     "execution_count": 3,
     "metadata": {},
     "output_type": "execute_result"
    }
   ],
   "source": [
    "df.tail()"
   ]
  },
  {
   "cell_type": "markdown",
   "id": "494ec71c",
   "metadata": {},
   "source": [
    "### Scaling"
   ]
  },
  {
   "cell_type": "code",
   "execution_count": 4,
   "id": "afe7045c",
   "metadata": {},
   "outputs": [],
   "source": [
    "# Scale close price feature\n",
    "\n",
    "scaler = MinMaxScaler()\n",
    "\n",
    "df['Close'] = scaler.fit_transform(df['Close'].values.reshape(-1, 1))"
   ]
  },
  {
   "cell_type": "code",
   "execution_count": 5,
   "id": "a609cc01",
   "metadata": {
    "scrolled": true
   },
   "outputs": [
    {
     "data": {
      "text/html": [
       "<div>\n",
       "<style scoped>\n",
       "    .dataframe tbody tr th:only-of-type {\n",
       "        vertical-align: middle;\n",
       "    }\n",
       "\n",
       "    .dataframe tbody tr th {\n",
       "        vertical-align: top;\n",
       "    }\n",
       "\n",
       "    .dataframe thead th {\n",
       "        text-align: right;\n",
       "    }\n",
       "</style>\n",
       "<table border=\"1\" class=\"dataframe\">\n",
       "  <thead>\n",
       "    <tr style=\"text-align: right;\">\n",
       "      <th></th>\n",
       "      <th>Open</th>\n",
       "      <th>High</th>\n",
       "      <th>Low</th>\n",
       "      <th>Close</th>\n",
       "      <th>Adj Close</th>\n",
       "      <th>Volume</th>\n",
       "    </tr>\n",
       "    <tr>\n",
       "      <th>Date</th>\n",
       "      <th></th>\n",
       "      <th></th>\n",
       "      <th></th>\n",
       "      <th></th>\n",
       "      <th></th>\n",
       "      <th></th>\n",
       "    </tr>\n",
       "  </thead>\n",
       "  <tbody>\n",
       "    <tr>\n",
       "      <th>2010-01-04</th>\n",
       "      <td>7.622500</td>\n",
       "      <td>7.660714</td>\n",
       "      <td>7.585000</td>\n",
       "      <td>0.003738</td>\n",
       "      <td>6.461977</td>\n",
       "      <td>493729600</td>\n",
       "    </tr>\n",
       "    <tr>\n",
       "      <th>2010-01-05</th>\n",
       "      <td>7.664286</td>\n",
       "      <td>7.699643</td>\n",
       "      <td>7.616071</td>\n",
       "      <td>0.003801</td>\n",
       "      <td>6.473150</td>\n",
       "      <td>601904800</td>\n",
       "    </tr>\n",
       "    <tr>\n",
       "      <th>2010-01-06</th>\n",
       "      <td>7.656429</td>\n",
       "      <td>7.686786</td>\n",
       "      <td>7.526786</td>\n",
       "      <td>0.003221</td>\n",
       "      <td>6.370185</td>\n",
       "      <td>552160000</td>\n",
       "    </tr>\n",
       "    <tr>\n",
       "      <th>2010-01-07</th>\n",
       "      <td>7.562500</td>\n",
       "      <td>7.571429</td>\n",
       "      <td>7.466071</td>\n",
       "      <td>0.003154</td>\n",
       "      <td>6.358409</td>\n",
       "      <td>477131200</td>\n",
       "    </tr>\n",
       "    <tr>\n",
       "      <th>2010-01-08</th>\n",
       "      <td>7.510714</td>\n",
       "      <td>7.571429</td>\n",
       "      <td>7.466429</td>\n",
       "      <td>0.003393</td>\n",
       "      <td>6.400682</td>\n",
       "      <td>447610800</td>\n",
       "    </tr>\n",
       "  </tbody>\n",
       "</table>\n",
       "</div>"
      ],
      "text/plain": [
       "                Open      High       Low     Close  Adj Close     Volume\n",
       "Date                                                                    \n",
       "2010-01-04  7.622500  7.660714  7.585000  0.003738   6.461977  493729600\n",
       "2010-01-05  7.664286  7.699643  7.616071  0.003801   6.473150  601904800\n",
       "2010-01-06  7.656429  7.686786  7.526786  0.003221   6.370185  552160000\n",
       "2010-01-07  7.562500  7.571429  7.466071  0.003154   6.358409  477131200\n",
       "2010-01-08  7.510714  7.571429  7.466429  0.003393   6.400682  447610800"
      ]
     },
     "execution_count": 5,
     "metadata": {},
     "output_type": "execute_result"
    }
   ],
   "source": [
    "df.head()"
   ]
  },
  {
   "cell_type": "markdown",
   "id": "62e510b2",
   "metadata": {},
   "source": [
    "### Feature engineering"
   ]
  },
  {
   "cell_type": "code",
   "execution_count": 7,
   "id": "b9859e67",
   "metadata": {},
   "outputs": [],
   "source": [
    "static_features = ['Rolling_Mean_5', 'Rolling_Mean_10', 'Rolling_Mean_30', 'Day', 'Month', 'Year']"
   ]
  },
  {
   "cell_type": "code",
   "execution_count": 8,
   "id": "0de699e8",
   "metadata": {},
   "outputs": [],
   "source": [
    "# Add rolling mean features\n",
    "\n",
    "df['Rolling_Mean_5'] = df['Close'].shift(1).rolling(window=5).mean()\n",
    "df['Rolling_Mean_10'] = df['Close'].shift(1).rolling(window=10).mean()\n",
    "df['Rolling_Mean_30'] = df['Close'].shift(1).rolling(window=30).mean()"
   ]
  },
  {
   "cell_type": "code",
   "execution_count": 9,
   "id": "c257b253",
   "metadata": {},
   "outputs": [],
   "source": [
    "# Add date features\n",
    "\n",
    "df['Day'] = df.index.day\n",
    "df['Month'] = df.index.month\n",
    "df['Year'] = df.index.year"
   ]
  },
  {
   "cell_type": "code",
   "execution_count": 10,
   "id": "a469884f",
   "metadata": {},
   "outputs": [],
   "source": [
    "# Scale static features\n",
    "\n",
    "date_scaler = MinMaxScaler()\n",
    "\n",
    "df[['Day', 'Month', 'Year']] = date_scaler.fit_transform(df[['Day', 'Month', 'Year']].values)"
   ]
  },
  {
   "cell_type": "code",
   "execution_count": 11,
   "id": "c7540a7a",
   "metadata": {},
   "outputs": [],
   "source": [
    "# Define function to create supervised learning dataset\n",
    "\n",
    "def create_dataset(df, lag):\n",
    "    # Initialize feature and target matrices\n",
    "    X, y = [], []\n",
    "    \n",
    "    # Loop through valid dates\n",
    "    for i in range(len(df) - lag):\n",
    "        # Get lagged close prices\n",
    "        close_prices = df.iloc[i:(i + lag), [3]].values\n",
    "        \n",
    "        # Add features to dataframe\n",
    "        X.append(close_prices)\n",
    "        y.append(df.iloc[i + lag, 3])\n",
    "        \n",
    "    return np.array(X), np.array(y)"
   ]
  },
  {
   "cell_type": "code",
   "execution_count": 12,
   "id": "74fb6752",
   "metadata": {},
   "outputs": [],
   "source": [
    "# Create feature and target matrices\n",
    "\n",
    "X, y = create_dataset(df, 30)"
   ]
  },
  {
   "cell_type": "code",
   "execution_count": 13,
   "id": "6f6e0362",
   "metadata": {},
   "outputs": [],
   "source": [
    "# Create static features matrix\n",
    "\n",
    "X_static = df.iloc[30:][static_features].values"
   ]
  },
  {
   "cell_type": "code",
   "execution_count": 14,
   "id": "cc1d9d6d",
   "metadata": {},
   "outputs": [],
   "source": [
    "# Create date vector\n",
    "\n",
    "dates = df.index[30:]"
   ]
  },
  {
   "cell_type": "code",
   "execution_count": 15,
   "id": "c87c88f0",
   "metadata": {},
   "outputs": [
    {
     "name": "stdout",
     "output_type": "stream",
     "text": [
      "X: (3616, 30, 1)\n",
      "y: (3616,)\n",
      "X_static: (3616, 6)\n",
      "dates: (3616,)\n"
     ]
    }
   ],
   "source": [
    "# Display shapes\n",
    "\n",
    "print(f'X: {X.shape}')\n",
    "print(f'y: {y.shape}')\n",
    "print(f'X_static: {X_static.shape}')\n",
    "print(f'dates: {dates.shape}')"
   ]
  },
  {
   "cell_type": "markdown",
   "id": "80f34495",
   "metadata": {},
   "source": [
    "### Data export"
   ]
  },
  {
   "cell_type": "code",
   "execution_count": 16,
   "id": "f62b4c12",
   "metadata": {},
   "outputs": [],
   "source": [
    "np.save('../data/X.npy', X)\n",
    "np.save('../data/y.npy', y)\n",
    "np.save('../data/dates.npy', dates)\n",
    "np.save('../data/X_static.npy', X_static)"
   ]
  },
  {
   "cell_type": "code",
   "execution_count": 17,
   "id": "ce4df8cb",
   "metadata": {},
   "outputs": [],
   "source": [
    "df.to_csv('../data/stock_data.csv')"
   ]
  },
  {
   "cell_type": "markdown",
   "id": "cb820553",
   "metadata": {},
   "source": [
    "### Scaler export"
   ]
  },
  {
   "cell_type": "code",
   "execution_count": 18,
   "id": "68e3a76a",
   "metadata": {},
   "outputs": [
    {
     "data": {
      "text/plain": [
       "['../models/date_scaler.pkl']"
      ]
     },
     "execution_count": 18,
     "metadata": {},
     "output_type": "execute_result"
    }
   ],
   "source": [
    "joblib.dump(scaler, '../models/price_scaler.pkl')\n",
    "joblib.dump(date_scaler, '../models/date_scaler.pkl')"
   ]
  }
 ],
 "metadata": {
  "kernelspec": {
   "display_name": "Python 3 (ipykernel)",
   "language": "python",
   "name": "python3"
  },
  "language_info": {
   "codemirror_mode": {
    "name": "ipython",
    "version": 3
   },
   "file_extension": ".py",
   "mimetype": "text/x-python",
   "name": "python",
   "nbconvert_exporter": "python",
   "pygments_lexer": "ipython3",
   "version": "3.11.3"
  }
 },
 "nbformat": 4,
 "nbformat_minor": 5
}
