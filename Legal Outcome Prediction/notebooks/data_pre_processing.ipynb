{
 "cells": [
  {
   "cell_type": "code",
   "execution_count": 75,
   "id": "9a24ecb2",
   "metadata": {},
   "outputs": [],
   "source": [
    "import pandas as pd\n",
    "from datasets import load_dataset\n",
    "import re\n",
    "import nltk\n",
    "from nltk.corpus import stopwords\n",
    "from nltk.tokenize import word_tokenize"
   ]
  },
  {
   "cell_type": "markdown",
   "id": "2e8fc887",
   "metadata": {},
   "source": [
    "### Data import"
   ]
  },
  {
   "cell_type": "code",
   "execution_count": 81,
   "id": "b009af17",
   "metadata": {},
   "outputs": [],
   "source": [
    "dataset = load_dataset('darrow-ai/USClassActions')"
   ]
  },
  {
   "cell_type": "code",
   "execution_count": 82,
   "id": "4c7f2fea",
   "metadata": {},
   "outputs": [],
   "source": [
    "df = dataset['train'].to_pandas()"
   ]
  },
  {
   "cell_type": "code",
   "execution_count": 83,
   "id": "12ccde14",
   "metadata": {},
   "outputs": [
    {
     "data": {
      "text/html": [
       "<div>\n",
       "<style scoped>\n",
       "    .dataframe tbody tr th:only-of-type {\n",
       "        vertical-align: middle;\n",
       "    }\n",
       "\n",
       "    .dataframe tbody tr th {\n",
       "        vertical-align: top;\n",
       "    }\n",
       "\n",
       "    .dataframe thead th {\n",
       "        text-align: right;\n",
       "    }\n",
       "</style>\n",
       "<table border=\"1\" class=\"dataframe\">\n",
       "  <thead>\n",
       "    <tr style=\"text-align: right;\">\n",
       "      <th></th>\n",
       "      <th>id</th>\n",
       "      <th>target_text</th>\n",
       "      <th>verdict</th>\n",
       "    </tr>\n",
       "  </thead>\n",
       "  <tbody>\n",
       "    <tr>\n",
       "      <th>0</th>\n",
       "      <td>99002</td>\n",
       "      <td>Knowing and/or Willful Violation of the Telep...</td>\n",
       "      <td>lose</td>\n",
       "    </tr>\n",
       "    <tr>\n",
       "      <th>1</th>\n",
       "      <td>138068</td>\n",
       "      <td>17.  Defendants operate an electrical construc...</td>\n",
       "      <td>win</td>\n",
       "    </tr>\n",
       "    <tr>\n",
       "      <th>2</th>\n",
       "      <td>319755</td>\n",
       "      <td>(Fair Labor Standards Act Violations)   (Viola...</td>\n",
       "      <td>win</td>\n",
       "    </tr>\n",
       "    <tr>\n",
       "      <th>3</th>\n",
       "      <td>155208</td>\n",
       "      <td>37.  As set forth below, the proposed Class sa...</td>\n",
       "      <td>win</td>\n",
       "    </tr>\n",
       "    <tr>\n",
       "      <th>4</th>\n",
       "      <td>390338</td>\n",
       "      <td>24. Named Plaintiffs and Class Members were em...</td>\n",
       "      <td>win</td>\n",
       "    </tr>\n",
       "  </tbody>\n",
       "</table>\n",
       "</div>"
      ],
      "text/plain": [
       "       id                                        target_text verdict\n",
       "0   99002   Knowing and/or Willful Violation of the Telep...    lose\n",
       "1  138068  17.  Defendants operate an electrical construc...     win\n",
       "2  319755  (Fair Labor Standards Act Violations)   (Viola...     win\n",
       "3  155208  37.  As set forth below, the proposed Class sa...     win\n",
       "4  390338  24. Named Plaintiffs and Class Members were em...     win"
      ]
     },
     "execution_count": 83,
     "metadata": {},
     "output_type": "execute_result"
    }
   ],
   "source": [
    "df.head()"
   ]
  },
  {
   "cell_type": "markdown",
   "id": "3b5f8967",
   "metadata": {},
   "source": [
    "### Cleaning"
   ]
  },
  {
   "cell_type": "code",
   "execution_count": 84,
   "id": "142af5d5",
   "metadata": {},
   "outputs": [],
   "source": [
    "# Drop extraneous columns\n",
    "\n",
    "df = df.drop('id', axis=1)"
   ]
  },
  {
   "cell_type": "code",
   "execution_count": 85,
   "id": "940073f1",
   "metadata": {
    "scrolled": false
   },
   "outputs": [
    {
     "data": {
      "text/plain": [
       "target_text    4\n",
       "verdict        0\n",
       "dtype: int64"
      ]
     },
     "execution_count": 85,
     "metadata": {},
     "output_type": "execute_result"
    }
   ],
   "source": [
    "# Check for null values\n",
    "\n",
    "df.isna().sum()"
   ]
  },
  {
   "cell_type": "code",
   "execution_count": 86,
   "id": "24d81f62",
   "metadata": {},
   "outputs": [],
   "source": [
    "# Drop null values\n",
    "\n",
    "df = df.dropna()"
   ]
  },
  {
   "cell_type": "markdown",
   "id": "6df71685",
   "metadata": {},
   "source": [
    "### Word pre-processing"
   ]
  },
  {
   "cell_type": "code",
   "execution_count": 89,
   "id": "e9fd0ee6",
   "metadata": {},
   "outputs": [
    {
     "data": {
      "text/plain": [
       "\" Knowing and/or Willful Violation of the Telephone Consumer Protection Act (47 U.S.C.  227, et seq.) on behalf of Autodialer Class    Knowing and/or Willful Violation of the Telephone Consumer Protection Act (47 U.S.C.  227, et seq. and 47 C.F.R. §§ 64.1200(d)) on behalf of the NDNC Class    Statutory Violations of the Telephone Consumer Protection Act (47 U.S.C. 227, et seq.)   on behalf of the Autodialer Class.    Violation of the Telephone Consumer Protection Act (47 U.S.C. 227, et seq. and 47 C.F.R.  §§ 64.1200(d)) on behalf of the NDNC Class  Case: 2:18-cv-00377-GCS-EPD Doc #: 1 Filed: 04/24/18 Page: 14 of 18  PAGEID #: 14 - 15 -   27.  Plaintiff Blevins is the owner and sole proprietor of Interior Creations, a small  business that performs home remodeling and improvement projects.    28.  Plaintiff Blevins is the exclusive user of the telephone assigned the number  Case: 2:18-cv-00377-GCS-EPD Doc #: 1 Filed: 04/24/18 Page: 7 of 18  PAGEID #: 7 - 8 -  ending in 3503 and the account holder of record for that account.  For several years, the number  has been registered with the NDNC.   29.  On April 3, 2018, at 12:14 p.m. EDT, Plaintiff Blevins received two unsolicited  text messages on his cellular telephone:   30.  Plaintiff Blevins responded to the text message, asking “Who is this and what’s  your company name?”  Blevins received a response saying “My name is Bryce and I work with  Premium!”  Case: 2:18-cv-00377-GCS-EPD Doc #: 1 Filed: 04/24/18 Page: 8 of 18  PAGEID #: 8 - 9 -   31.  In order to gain more information regarding the source of the text message,  Plaintiff Blevins asked, “Got a website?  I’ll check it out.”  Blevins then received a response  from “Bryce” directing him to “www.pmfus.com.”   32.  On information and belief, www.pmfus.com is the website owned and operated  by PMF.  On this website, PMF states:  Premium Merchant Funding's mission is to provide a broad array of services and  solutions for small businesses. PMF offers merchant cash advances, small  business loans, SBA loans, equipment financing, factoring, purchase order  financing and commercial mortgages nationwide. We will find you the best option  for your business regardless of bad credit, high risk business types or financial  issues. PMF also offers credit card processing, personal and business credit repair,  payroll services and SEO & Web development.   33.  Plaintiff Blevins has never contacted PMF for any purpose, and has no business  relationship with it.   34.  Plaintiff Blevins received all calls as described above on his cellular telephone  assigned a number ending in 3503.   35.  Plaintiff Blevins understood the purpose of PMF’s text message was to market  Defendant’s services and solicit business from him.   36.  Plaintiff Blevins did not consent to being texted by PMF for telemarketing  purposes and the text received from Defendant was an intrusion into Plaintiff’s privacy and  caused Plaintiff Blevins annoyance and an unnecessary expenditure of his time and efforts.   37.  PMF is, and at all times mentioned herein was, a “person,” as defined by 47  43.  Plaintiff incorporates by reference all other paragraphs of this Complaint as if  fully stated herein.   44.  Plaintiff brings this action on behalf of himself and the following classes (the  “Classes”) pursuant to Federal Rule of Civil Procedure 23.   45.  Plaintiff proposes the following Class definitions, subject to amendment as  appropriate:   (1) The Robotexting Class:  All persons in the United States and its Territories who,  within four years prior to the commencement of this litigation until the class is certified,  Case: 2:18-cv-00377-GCS-EPD Doc #: 1 Filed: 04/24/18 Page: 10 of 18  PAGEID #: 10 - 11 -  received one or more telemarketing texts on their cellular telephone from or on behalf of  Premium Merchant Funding One, LLC, sent via an automated telephone dialing system,  for whom Premium Merchant Funding One, LLC for whom cannot demonstrate that it  had written, prior express consent for such texts.  (2) The NDNC Class: All persons in the United States and its Territories whose telephone  numbers were on the National Do Not Call Registry, but who received more than one  telephone solicitation telemarketing call or text message from or on behalf of Premium  Merchant Financing with a 12-month period, since April 23, 2014.   46.  Plaintiff Blevins is a member of, and will fairly and adequately represent and  protect the interests of, these Classes.     47.  Excluded from the Class are Defendant, any entities in which Defendant has a  controlling interest, Defendant’s agents and employees, any Judge to whom this action is  assigned, and any member of such Judge’s staff and immediate family, and claims for personal  injury, wrongful death and/or emotional distress.   48.  Plaintiff does not know the exact number of members in the Classes, but Plaintiff  reasonably believes Class members number, at minimum, in the hundreds in each class.   49.  Plaintiff and all members of the Classes have been harmed by the acts of the  Defendant, including, but not limited to, the invasion of their privacy, annoyance, waste of time,  the use of their cell phone battery, and the intrusion on their cellular telephone that occupied it  from receiving legitimate communications.   50.  This Class Action Complaint seeks injunctive relief and money damages.   51.  The joinder of all Class members is impracticable due to the size and relatively  modest value of each individual claim.   52.  Additionally, the disposition of the claims in a class action will provide  substantial benefit to the parties and the Court in avoiding a multiplicity of identical suits.  Case: 2:18-cv-00377-GCS-EPD Doc #: 1 Filed: 04/24/18 Page: 11 of 18  PAGEID #: 11 - 12 -   53.  Further, all members of the Class can be identified through records maintained by  Defendant and/or its telemarketing agents and/or telephone carriers.   54.  There are well defined, nearly identical, questions of law and fact affecting all  parties.   55.  The questions of law and fact, referred to above, involving the class claims  predominate over questions which may affect individual Class members.   56.  Such common questions of law and fact include, but are not limited to, the  following:   a.  Whether Defendant used an automatic telephone dialing system in sending  text messages to Class members’ telephones to promote PMF’s goods or services.  b.  Whether agents operating on behalf of Defendant used an automatic  telephone dialing system in sending text messages to Class members’ cell phones;  c.  Whether the Defendant can meet its burden of showing it obtained prior  express written consent (i.e., written consent that is clearly and unmistakably stated), to send  such texts;   d.  Whether Defendant or its agent sent more than one text to any customer in  a twelve month period;  e.  Whether Defendant or its agent maintained necessary procedures for  compliance with the National Do Not Call Registry;  f.  Whether the Defendant’s conduct was knowing and/or willful;  g.  Whether the Defendant is liable for statutory damages; and  h.  Whether the Defendant should be enjoined from engaging in such conduct  Case: 2:18-cv-00377-GCS-EPD Doc #: 1 Filed: 04/24/18 Page: 12 of 18  PAGEID #: 12 - 13 -  in the future.     57.  As a person who received non-emergency telephone calls using an automatic  telephone dialing system without his prior express consent within the meaning of the TCPA,  Plaintiff asserts claims that are typical of each Class member who also received such phone calls.   58.  As a person whose telephone number was placed on the National Do Not Call List  and who received more than one text message in a twelve month period, Plaintiff asserts claims  that are typical of the NDNC Class.   59.  Further, Plaintiff will fairly and adequately represent and protect the interests of  the Class.  Plaintiff has no interests which are antagonistic to any member of the Class.   60.  Plaintiff has retained counsel with substantial experience in prosecuting complex  litigation and class actions.  Plaintiff and his counsel are committed to vigorously prosecuting  this action on behalf of the other members of the Class, and have the financial resources to do so.     61.  Absent a class action, most members of the Class would find the cost of litigating  their claims to be prohibitive and would have no effective remedy.  The class treatment of  common questions of law and fact is also superior to multiple individual actions or piecemeal  litigation in that it conserves the resources of the courts and the litigants, and promotes  consistency and efficiency of adjudication.  62.  Plaintiff incorporates by reference the foregoing allegations as if fully set forth  herein.  Case: 2:18-cv-00377-GCS-EPD Doc #: 1 Filed: 04/24/18 Page: 13 of 18  PAGEID #: 13 - 14 -   63.  PMF violated the TCPA by sending, or causing to be sent via an agent, text  messages to the cellular telephones of Plaintiff and members of the Autodialer Class using an  automated dialer without their prior express written consent.   64.  As a result of the Defendant’s violations of 47 U.S.C. §  227 et seq., Plaintiff and  Class members are entitled to an award of $500 in statutory damages for each and every  violation of the statute, pursuant to 47 U.S.C. § 227(b)(3)(B).   65.  Plaintiff and Class members are also entitled to and do seek injunctive relief  prohibiting the Defendants’ violation of the TCPA in the future.  66.  Plaintiff incorporates by reference the foregoing allegations as if fully set forth  herein.   67.  PMF violated the TCPA by sending, or causing to be sent via an agent, text  messages to the cellular telephones of Plaintiff and members of the Autodialer Class using an  automated dialer without their prior express written consent.   68.  As a result of the Defendant’s knowing and/or willful violations of 47 U.S.C. §   227 et seq., Plaintiff and each member of the Class is entitled to treble damages of up to $1,500  for each and every violation of the statute, pursuant to 47 U.S.C. § 227(b)(3).   69.  Plaintiff and Class members are also entitled to and do seek injunctive relief  prohibiting the Defendant’s violation of the TCPA in the future.  70.  Plaintiff incorporates by reference the foregoing allegations as if fully set forth  herein.   71.  PMF violated the TCPA and the Regulations by making, or having its agent  make, two or more telemarketing text messages within a 12-month period on PMF’s behalf to  Plaintiff and the members of the NDNC Class while those persons’ phone numbers were  registered on the National Do Not Call Registry.   72.  As a result of the Defendant’s violations of 47 U.S.C. §  227 et seq., Plaintiff and  Class members are entitled to an award of $500 in statutory damages for each and every  violation of the statute, pursuant to 47 U.S.C. § 227(b)(3)(B).   73.  Plaintiff and Class members are also entitled to and do seek injunctive relief  prohibiting the Defendant’s violation of the TCPA in the future.  74.  Plaintiff incorporates by reference the foregoing allegations as if fully set forth  herein.   75.  PMF knowingly and/or willingly violated the TCPA and the Regulations by  making, or having its agent make, two or more telemarketing text messages within a 12-month  period on PMF’s behalf to Plaintiff and the members of the NDNC Class while those persons’  phone numbers were registered on the National Do Not Call Registry.    76.  As a result of the Defendant’s knowing and/or willful violations of 47 U.S.C. §   227 et seq., Plaintiff and each member of the Class is entitled to treble damages of up to $1,500  for each and every violation of the statute, pursuant to 47 U.S.C. § 227(b)(3).  Case: 2:18-cv-00377-GCS-EPD Doc #: 1 Filed: 04/24/18 Page: 15 of 18  PAGEID #: 15 - 16 -   77.  Plaintiff and Class members are also entitled to and do seek injunctive relief  prohibiting the Defendant’s violation of the TCPA in the future.  Plaintiff Blevins  \""
      ]
     },
     "execution_count": 89,
     "metadata": {},
     "output_type": "execute_result"
    }
   ],
   "source": [
    "# Visualize random document\n",
    "\n",
    "df['target_text'].iloc[0]"
   ]
  },
  {
   "cell_type": "code",
   "execution_count": 80,
   "id": "ad3953e9",
   "metadata": {},
   "outputs": [
    {
     "name": "stderr",
     "output_type": "stream",
     "text": [
      "[nltk_data] Downloading package stopwords to\n",
      "[nltk_data]     /Users/ryantung/nltk_data...\n",
      "[nltk_data]   Package stopwords is already up-to-date!\n",
      "[nltk_data] Downloading package punkt to /Users/ryantung/nltk_data...\n",
      "[nltk_data]   Package punkt is already up-to-date!\n"
     ]
    },
    {
     "data": {
      "text/plain": [
       "True"
      ]
     },
     "execution_count": 80,
     "metadata": {},
     "output_type": "execute_result"
    }
   ],
   "source": [
    "# Import list of stopwords\n",
    "\n",
    "nltk.download('stopwords')\n",
    "nltk.download('punkt')"
   ]
  },
  {
   "cell_type": "code",
   "execution_count": 90,
   "id": "c2b8ba2d",
   "metadata": {},
   "outputs": [],
   "source": [
    "# Define function to clean & tokenize case facts summaries\n",
    "\n",
    "def clean_text(text):\n",
    "    # Remove non-word characters\n",
    "    text = re.sub(r'\\W', ' ', text)\n",
    "    text = text.lower()\n",
    "    \n",
    "    # Tokenize sentence\n",
    "    tokens = word_tokenize(text)\n",
    "    \n",
    "    # Initialize empty list of cleaned tokens\n",
    "    cleanTokens = []\n",
    "    \n",
    "    # Remove common English stop-words\n",
    "    for word in tokens:\n",
    "        if word not in stopwords.words('english'):\n",
    "            cleanTokens.append(word)\n",
    "    \n",
    "    return cleanTokens"
   ]
  },
  {
   "cell_type": "code",
   "execution_count": 91,
   "id": "0cb85ed5",
   "metadata": {},
   "outputs": [],
   "source": [
    "# Apply clean_text function to each case facts summary\n",
    "\n",
    "df['cleaned_facts'] = df['target_text'].apply(clean_text)"
   ]
  },
  {
   "cell_type": "code",
   "execution_count": 92,
   "id": "3dd8f991",
   "metadata": {},
   "outputs": [
    {
     "data": {
      "text/plain": [
       "cleaned_facts\n",
       "plaintiff      63507\n",
       "class          56863\n",
       "defendant      45965\n",
       "members        32151\n",
       "c              24727\n",
       "defendants     23222\n",
       "website        17621\n",
       "u              15606\n",
       "action         14511\n",
       "b              14444\n",
       "services       12380\n",
       "law            12307\n",
       "plaintiffs     11954\n",
       "1              11364\n",
       "2              10027\n",
       "herein          9308\n",
       "behalf          9301\n",
       "access          9292\n",
       "hours           9144\n",
       "new             9144\n",
       "23              9007\n",
       "information     8408\n",
       "violation       8270\n",
       "pay             8235\n",
       "set             8188\n",
       "Name: count, dtype: int64"
      ]
     },
     "execution_count": 92,
     "metadata": {},
     "output_type": "execute_result"
    }
   ],
   "source": [
    "# Find additional stop-words\n",
    "\n",
    "df['cleaned_facts'].explode('lists').value_counts().head(25)"
   ]
  },
  {
   "cell_type": "code",
   "execution_count": 93,
   "id": "3ee7e212",
   "metadata": {},
   "outputs": [],
   "source": [
    "# Declare new stopwords\n",
    "\n",
    "new_stopwords = ['plaintiff', 'class', 'defendant', 'c', 'defendants', 'u',\n",
    "                 'action', 'b', 'law', 'plaintiffs', '1', '2', 'herein', 'behalf']"
   ]
  },
  {
   "cell_type": "code",
   "execution_count": 94,
   "id": "9af566ad",
   "metadata": {},
   "outputs": [],
   "source": [
    "# Define function to remove new stop-words\n",
    "\n",
    "def remove_stopwords(text):\n",
    "    # Initialize empty list of cleaned tokens\n",
    "    cleanTokens = []\n",
    "    \n",
    "    # Remove new stopwords\n",
    "    for word in text:\n",
    "        if word not in new_stopwords:\n",
    "            cleanTokens.append(word)\n",
    "    \n",
    "    return cleanTokens"
   ]
  },
  {
   "cell_type": "code",
   "execution_count": 95,
   "id": "82376783",
   "metadata": {},
   "outputs": [],
   "source": [
    "# Apply remove_stopwords function to cleaned case facts\n",
    "\n",
    "df['cleaned_facts'] = df['cleaned_facts'].apply(remove_stopwords)"
   ]
  },
  {
   "cell_type": "markdown",
   "id": "f61bf8f2",
   "metadata": {},
   "source": [
    "### Data export"
   ]
  },
  {
   "cell_type": "code",
   "execution_count": 102,
   "id": "63dafc1c",
   "metadata": {},
   "outputs": [],
   "source": [
    "df.to_json('../data/cleaned_class_action.json', orient='records', lines=True)"
   ]
  }
 ],
 "metadata": {
  "kernelspec": {
   "display_name": "Python 3 (ipykernel)",
   "language": "python",
   "name": "python3"
  },
  "language_info": {
   "codemirror_mode": {
    "name": "ipython",
    "version": 3
   },
   "file_extension": ".py",
   "mimetype": "text/x-python",
   "name": "python",
   "nbconvert_exporter": "python",
   "pygments_lexer": "ipython3",
   "version": "3.11.3"
  }
 },
 "nbformat": 4,
 "nbformat_minor": 5
}
